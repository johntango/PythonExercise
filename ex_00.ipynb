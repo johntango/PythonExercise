{
 "cells": [
  {
   "cell_type": "code",
   "execution_count": null,
   "metadata": {},
   "outputs": [],
   "source": [
    "# use 2 slicing operators to print out \"Hello o World\"\n",
    "\n",
    "str1 = \"Hello World\"\n",
    "print(str1[??], str1[??]"
   ]
  },
  {
   "cell_type": "code",
   "execution_count": null,
   "metadata": {},
   "outputs": [],
   "source": [
    "# what do the following print out - look them up on Google\n",
    "str=\"my name's captain kirk\";\n",
    "print(str.capitalize())\n",
    "print(str.title())\n",
    "print(str.split())\n",
    "print(str.replace(\"'\", \"\"))"
   ]
  },
  {
   "cell_type": "code",
   "execution_count": null,
   "metadata": {},
   "outputs": [],
   "source": [
    "# What will the value of x be - work it out by hand first\n",
    "x=0\n",
    "a=0\n",
    "b=-5\n",
    "if a > 0:\n",
    "    if b < 0:\n",
    "        x=x + 3\n",
    "elif a <= 0:\n",
    "        x=x + 1\n",
    "else:\n",
    "    x=x + 2\n",
    "# print(x)\n"
   ]
  },
  {
   "cell_type": "code",
   "execution_count": null,
   "metadata": {},
   "outputs": [],
   "source": [
    "# work out by hand what will be printed out\n",
    "numbers = [10, 20]\n",
    "items = [\"Chair\", \"Table\"]\n",
    "\n",
    "for x in numbers:\n",
    "  for y in items:\n",
    "    print(x, y)"
   ]
  },
  {
   "cell_type": "code",
   "execution_count": null,
   "metadata": {},
   "outputs": [],
   "source": [
    "# IN CLASS - output a dictionary of the form {'word': count,...}\n",
    "str = 'Lorem ipsum dolor sit amet, consectetur adipiscing elit, sed do eiusmod tempor incididunt ut labore et dolore magna aliqua. Ut enim ad minim veniam, quis nostrud exercitation ullamco laboris nisi ut aliquip ex ea commodo consequat. Duis aute irure dolor in reprehenderit in voluptate velit esse cillum dolore eu fugiat nulla pariatur. Excepteur sint occaecat cupidatat non proident, sunt in culpa qui officia deserunt mollit anim id est laborum.'\n",
    "words = str.split(\" \")\n"
   ]
  },
  {
   "cell_type": "code",
   "execution_count": null,
   "metadata": {},
   "outputs": [],
   "source": [
    "# Use a for loop to print out each item in this Dictionary\n",
    "d = {\"A\":\"Apple\",\"B\":\"Banana\",\"C\":\"Cantalope\"}"
   ]
  },
  {
   "cell_type": "code",
   "execution_count": null,
   "metadata": {},
   "outputs": [],
   "source": [
    "# use \"for k,v in ??\"\" to print out both the key and the value of each item\n",
    "for k,v in d ??  :\n",
    "    print(f\"key= {k}, value= {v}\")"
   ]
  },
  {
   "cell_type": "code",
   "execution_count": null,
   "metadata": {},
   "outputs": [],
   "source": [
    "# Print out Fred's scores for math and english\n",
    "myDict = { \n",
    "   \"class\":{ \n",
    "      \"student\":{ \n",
    "         \"name\":\"Fred\",\n",
    "         \"marks\":{ \n",
    "            \"math\":88,\n",
    "            \"english\":70\n",
    "         }\n",
    "      }\n",
    "   }\n",
    "}\n",
    "# Answer"
   ]
  },
  {
   "cell_type": "code",
   "execution_count": null,
   "metadata": {},
   "outputs": [],
   "source": [
    "# Print out Anne's age\n",
    "student = {1: {'name': 'Fred', 'age': '27', 'marks': 77},\n",
    "           2: {'name': 'Anne', 'age': '22', 'marks': 88}}\n",
    "# Answer \n",
    "print(f\"Anne's age is \")"
   ]
  }
 ],
 "metadata": {
  "kernelspec": {
   "display_name": "Python 3",
   "language": "python",
   "name": "python3"
  },
  "language_info": {
   "name": "python",
   "version": "3.9.0"
  },
  "orig_nbformat": 4,
  "vscode": {
   "interpreter": {
    "hash": "949777d72b0d2535278d3dc13498b2535136f6dfe0678499012e853ee9abcab1"
   }
  }
 },
 "nbformat": 4,
 "nbformat_minor": 2
}
